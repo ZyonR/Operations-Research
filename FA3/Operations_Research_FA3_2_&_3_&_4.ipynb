{
  "nbformat": 4,
  "nbformat_minor": 0,
  "metadata": {
    "colab": {
      "provenance": []
    },
    "kernelspec": {
      "name": "python3",
      "display_name": "Python 3"
    },
    "language_info": {
      "name": "python"
    }
  },
  "cells": [
    {
      "cell_type": "code",
      "execution_count": 2,
      "metadata": {
        "id": "5Rd2Iih3NXa6"
      },
      "outputs": [],
      "source": [
        "import networkx as nx"
      ]
    },
    {
      "cell_type": "markdown",
      "source": [
        "# **Find the shortest Path**"
      ],
      "metadata": {
        "id": "hIrDCZ-ofns5"
      }
    },
    {
      "cell_type": "code",
      "source": [
        "G = nx.Graph()\n",
        "\n",
        "G.add_node('SE') #Starting Point\n",
        "# Other Nodes\n",
        "G.add_node('A')\n",
        "G.add_node('B')\n",
        "G.add_node('C')\n",
        "G.add_node('D')\n",
        "G.add_node('E')\n",
        "G.add_node('F')\n",
        "\n",
        "G.add_node('LN') #End Node\n",
        "\n",
        "# From Starting Node\n",
        "G.add_edge('SE', 'A', weight=4.6)\n",
        "G.add_edge('SE', 'B', weight=4.7)\n",
        "G.add_edge('SE', 'C', weight=4.2)\n",
        "\n",
        "# From Starting A\n",
        "G.add_edge('A', 'D', weight=3.5)\n",
        "G.add_edge('A', 'E', weight=3.4)\n",
        "\n",
        "# From Starting B\n",
        "G.add_edge('B', 'D', weight=3.6)\n",
        "G.add_edge('B', 'E', weight=3.2)\n",
        "G.add_edge('B', 'F', weight=3.3)\n",
        "\n",
        "# From Starting C\n",
        "G.add_edge('C', 'E', weight=3.5)\n",
        "G.add_edge('C', 'F', weight=3.4)\n",
        "\n",
        "# Going to Final Node\n",
        "G.add_edge('D', 'LN', weight=3.4)\n",
        "G.add_edge('E', 'LN', weight=3.6)\n",
        "G.add_edge('F', 'LN', weight=3.8)\n",
        "\n",
        "path = nx.shortest_path(G, source='SE', target='LN', weight='weight')\n",
        "length = nx.shortest_path_length(G, source='SE', target='LN', weight='weight')\n",
        "\n",
        "print(\"Shortest path to take:\", path)\n",
        "print(\"Total Path length:\", length)"
      ],
      "metadata": {
        "colab": {
          "base_uri": "https://localhost:8080/"
        },
        "id": "VH9PiOSReQnb",
        "outputId": "eba0a526-038a-45e3-9694-a7d9a61d727f"
      },
      "execution_count": 3,
      "outputs": [
        {
          "output_type": "stream",
          "name": "stdout",
          "text": [
            "Shortest path to take: ['SE', 'C', 'E', 'LN']\n",
            "Total Path length: 11.3\n"
          ]
        }
      ]
    },
    {
      "cell_type": "code",
      "source": [
        "A = nx.DiGraph()\n",
        "\n",
        "A.add_node('Plant 1',demand=-200) #Starting Point\n",
        "A.add_node('Plant 2',demand=-300) #Starting Point\n",
        "\n",
        "# Other Nodes\n",
        "A.add_node('Ware 1',demand=0)\n",
        "A.add_node('Ware 2',demand=0)\n",
        "\n",
        "A.add_node('RO1',demand=150) #End Node\n",
        "A.add_node('RO2',demand=200) #End Node\n",
        "A.add_node('RO3',demand=150) #End Node\n",
        "\n",
        "# For Plant 1\n",
        "A.add_edge('Plant 1', 'Ware 1', capacity=125, weight=425)\n",
        "A.add_edge('Plant 1', 'Ware 2', capacity=150, weight=560)\n",
        "\n",
        "# For Plant 2\n",
        "A.add_edge('Plant 2', 'Ware 1', capacity=175, weight=510)\n",
        "A.add_edge('Plant 2', 'Ware 2', capacity=200, weight=600)\n",
        "\n",
        "# For Ware 1\n",
        "A.add_edge('Ware 1', 'RO1', capacity=100, weight=470)\n",
        "A.add_edge('Ware 1', 'RO2', capacity=150, weight=505)\n",
        "A.add_edge('Ware 1', 'RO3', capacity=100, weight=490)\n",
        "\n",
        "# For Ware 2\n",
        "A.add_edge('Ware 2', 'RO1', capacity=125, weight=390)\n",
        "A.add_edge('Ware 2', 'RO2', capacity=150, weight=410)\n",
        "A.add_edge('Ware 2', 'RO3', capacity=75, weight=440)"
      ],
      "metadata": {
        "id": "9beaVG2nfky8"
      },
      "execution_count": 9,
      "outputs": []
    },
    {
      "cell_type": "code",
      "source": [
        "flow_dict = nx.min_cost_flow(A)\n",
        "flow_cost = nx.cost_of_flow(A, flow_dict)"
      ],
      "metadata": {
        "id": "Afff3v1fkE2N"
      },
      "execution_count": 10,
      "outputs": []
    },
    {
      "cell_type": "code",
      "source": [
        "print(f\"Flow is sent along each edge:\")\n",
        "for i,val in flow_dict.items():\n",
        "  print(f\"{i}:{val}\")"
      ],
      "metadata": {
        "colab": {
          "base_uri": "https://localhost:8080/"
        },
        "id": "MVMqHzLBkQ97",
        "outputId": "06e03c2a-5623-419b-a145-b2574d680014"
      },
      "execution_count": 13,
      "outputs": [
        {
          "output_type": "stream",
          "name": "stdout",
          "text": [
            "Flow is sent along each edge:\n",
            "Plant 1:{'Ware 1': 125, 'Ware 2': 75}\n",
            "Plant 2:{'Ware 1': 125, 'Ware 2': 175}\n",
            "Ware 1:{'RO1': 100, 'RO2': 50, 'RO3': 100}\n",
            "Ware 2:{'RO1': 50, 'RO2': 150, 'RO3': 50}\n",
            "RO1:{}\n",
            "RO2:{}\n",
            "RO3:{}\n"
          ]
        }
      ]
    },
    {
      "cell_type": "code",
      "source": [
        "print(f\"Minimum Cost to send out the flow:\\n${flow_cost}\")"
      ],
      "metadata": {
        "colab": {
          "base_uri": "https://localhost:8080/"
        },
        "id": "aEfQxMVElTpu",
        "outputId": "eb559d76-7b8d-4b5a-a406-6e1e43fda004"
      },
      "execution_count": 15,
      "outputs": [
        {
          "output_type": "stream",
          "name": "stdout",
          "text": [
            "Minimum Cost to send out the flow:\n",
            "$488125\n"
          ]
        }
      ]
    },
    {
      "cell_type": "code",
      "source": [
        "# Number 4 has no value for Activity E, cannot crash and ensure project is at most 12 months."
      ],
      "metadata": {
        "id": "pSdI7EP-vrAp"
      },
      "execution_count": 16,
      "outputs": []
    },
    {
      "cell_type": "code",
      "source": [],
      "metadata": {
        "id": "PKTdK27Tv08L"
      },
      "execution_count": null,
      "outputs": []
    }
  ]
}